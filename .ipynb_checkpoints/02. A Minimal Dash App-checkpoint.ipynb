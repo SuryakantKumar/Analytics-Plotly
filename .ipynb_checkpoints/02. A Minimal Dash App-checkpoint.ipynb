{
 "cells": [
  {
   "cell_type": "markdown",
   "id": "001e2f33-12a5-4b64-9f59-5fb859f03598",
   "metadata": {},
   "source": [
    "# A Minimal Dash App"
   ]
  },
  {
   "cell_type": "markdown",
   "id": "05b164ef-6099-4163-94d4-0133e33a9368",
   "metadata": {},
   "source": [
    "This code sets up a web application using `Dash`.\n",
    "\n",
    "It loads data from a CSV file, allows users to select a country from a dropdown menu, and displays a dynamic line plot of population over time for the selected country.\n",
    "\n",
    "The graph updates in real-time based on user input, thanks to the `callback` function."
   ]
  },
  {
   "cell_type": "markdown",
   "id": "c33396c9-d5d2-44de-9c94-7c2110957a09",
   "metadata": {},
   "source": [
    "### **Import necessary libraries**\n",
    "\n",
    "- `Dash`: A Python web framework for building interactive web applications.\n",
    "\n",
    "- `html` and `dcc` (Dash components): These are used for creating HTML elements and Dash components for the web interface.\n",
    "\n",
    "- `callback`, `Output`, and `Input`: These are used to define callback functions for interactivity.\n",
    "\n",
    "- `plotly.express`: This is used for creating interactive plots.\n",
    "\n",
    "- `pandas`: This library is used for data manipulation."
   ]
  },
  {
   "cell_type": "code",
   "execution_count": 1,
   "id": "6adc030d-fef3-4c50-8fc1-1bc51ad4f335",
   "metadata": {},
   "outputs": [],
   "source": [
    "from dash import Dash, html, dcc, callback, Output, Input\n",
    "import plotly.express as px\n",
    "import pandas as pd"
   ]
  },
  {
   "cell_type": "markdown",
   "id": "f13518b7-45e3-432a-99ea-a06052408d04",
   "metadata": {},
   "source": [
    "### **Load Data**\n",
    "\n",
    "- Data is loaded from a `CSV` file hosted on `GitHub` using `Pandas`.\n",
    "\n",
    "- The data is stored in a DataFrame called `df`."
   ]
  },
  {
   "cell_type": "code",
   "execution_count": 2,
   "id": "7e8be34d-750c-448e-95bc-9d68794386f4",
   "metadata": {},
   "outputs": [
    {
     "data": {
      "text/html": [
       "<div>\n",
       "<style scoped>\n",
       "    .dataframe tbody tr th:only-of-type {\n",
       "        vertical-align: middle;\n",
       "    }\n",
       "\n",
       "    .dataframe tbody tr th {\n",
       "        vertical-align: top;\n",
       "    }\n",
       "\n",
       "    .dataframe thead th {\n",
       "        text-align: right;\n",
       "    }\n",
       "</style>\n",
       "<table border=\"1\" class=\"dataframe\">\n",
       "  <thead>\n",
       "    <tr style=\"text-align: right;\">\n",
       "      <th></th>\n",
       "      <th>country</th>\n",
       "      <th>continent</th>\n",
       "      <th>year</th>\n",
       "      <th>lifeExp</th>\n",
       "      <th>pop</th>\n",
       "      <th>gdpPercap</th>\n",
       "    </tr>\n",
       "  </thead>\n",
       "  <tbody>\n",
       "    <tr>\n",
       "      <th>0</th>\n",
       "      <td>Afghanistan</td>\n",
       "      <td>Asia</td>\n",
       "      <td>1952</td>\n",
       "      <td>28.801</td>\n",
       "      <td>8425333</td>\n",
       "      <td>779.445314</td>\n",
       "    </tr>\n",
       "    <tr>\n",
       "      <th>1</th>\n",
       "      <td>Afghanistan</td>\n",
       "      <td>Asia</td>\n",
       "      <td>1957</td>\n",
       "      <td>30.332</td>\n",
       "      <td>9240934</td>\n",
       "      <td>820.853030</td>\n",
       "    </tr>\n",
       "    <tr>\n",
       "      <th>2</th>\n",
       "      <td>Afghanistan</td>\n",
       "      <td>Asia</td>\n",
       "      <td>1962</td>\n",
       "      <td>31.997</td>\n",
       "      <td>10267083</td>\n",
       "      <td>853.100710</td>\n",
       "    </tr>\n",
       "    <tr>\n",
       "      <th>3</th>\n",
       "      <td>Afghanistan</td>\n",
       "      <td>Asia</td>\n",
       "      <td>1967</td>\n",
       "      <td>34.020</td>\n",
       "      <td>11537966</td>\n",
       "      <td>836.197138</td>\n",
       "    </tr>\n",
       "    <tr>\n",
       "      <th>4</th>\n",
       "      <td>Afghanistan</td>\n",
       "      <td>Asia</td>\n",
       "      <td>1972</td>\n",
       "      <td>36.088</td>\n",
       "      <td>13079460</td>\n",
       "      <td>739.981106</td>\n",
       "    </tr>\n",
       "    <tr>\n",
       "      <th>...</th>\n",
       "      <td>...</td>\n",
       "      <td>...</td>\n",
       "      <td>...</td>\n",
       "      <td>...</td>\n",
       "      <td>...</td>\n",
       "      <td>...</td>\n",
       "    </tr>\n",
       "    <tr>\n",
       "      <th>3308</th>\n",
       "      <td>Zimbabwe</td>\n",
       "      <td>Africa</td>\n",
       "      <td>1987</td>\n",
       "      <td>62.351</td>\n",
       "      <td>9216418</td>\n",
       "      <td>706.157306</td>\n",
       "    </tr>\n",
       "    <tr>\n",
       "      <th>3309</th>\n",
       "      <td>Zimbabwe</td>\n",
       "      <td>Africa</td>\n",
       "      <td>1992</td>\n",
       "      <td>60.377</td>\n",
       "      <td>10704340</td>\n",
       "      <td>693.420786</td>\n",
       "    </tr>\n",
       "    <tr>\n",
       "      <th>3310</th>\n",
       "      <td>Zimbabwe</td>\n",
       "      <td>Africa</td>\n",
       "      <td>1997</td>\n",
       "      <td>46.809</td>\n",
       "      <td>11404948</td>\n",
       "      <td>792.449960</td>\n",
       "    </tr>\n",
       "    <tr>\n",
       "      <th>3311</th>\n",
       "      <td>Zimbabwe</td>\n",
       "      <td>Africa</td>\n",
       "      <td>2002</td>\n",
       "      <td>39.989</td>\n",
       "      <td>11926563</td>\n",
       "      <td>672.038623</td>\n",
       "    </tr>\n",
       "    <tr>\n",
       "      <th>3312</th>\n",
       "      <td>Zimbabwe</td>\n",
       "      <td>Africa</td>\n",
       "      <td>2007</td>\n",
       "      <td>43.487</td>\n",
       "      <td>12311143</td>\n",
       "      <td>469.709298</td>\n",
       "    </tr>\n",
       "  </tbody>\n",
       "</table>\n",
       "<p>3313 rows × 6 columns</p>\n",
       "</div>"
      ],
      "text/plain": [
       "          country continent  year  lifeExp       pop   gdpPercap\n",
       "0     Afghanistan      Asia  1952   28.801   8425333  779.445314\n",
       "1     Afghanistan      Asia  1957   30.332   9240934  820.853030\n",
       "2     Afghanistan      Asia  1962   31.997  10267083  853.100710\n",
       "3     Afghanistan      Asia  1967   34.020  11537966  836.197138\n",
       "4     Afghanistan      Asia  1972   36.088  13079460  739.981106\n",
       "...           ...       ...   ...      ...       ...         ...\n",
       "3308     Zimbabwe    Africa  1987   62.351   9216418  706.157306\n",
       "3309     Zimbabwe    Africa  1992   60.377  10704340  693.420786\n",
       "3310     Zimbabwe    Africa  1997   46.809  11404948  792.449960\n",
       "3311     Zimbabwe    Africa  2002   39.989  11926563  672.038623\n",
       "3312     Zimbabwe    Africa  2007   43.487  12311143  469.709298\n",
       "\n",
       "[3313 rows x 6 columns]"
      ]
     },
     "execution_count": 2,
     "metadata": {},
     "output_type": "execute_result"
    }
   ],
   "source": [
    "df = pd.read_csv('https://raw.githubusercontent.com/plotly/datasets/master/gapminder_unfiltered.csv')\n",
    "\n",
    "df"
   ]
  },
  {
   "cell_type": "markdown",
   "id": "36a6c0f3-88c7-4310-b2e3-2131d05e2c8e",
   "metadata": {},
   "source": [
    "### **Create a Dash App**\n",
    "\n",
    "- An instance of a Dash web application is created and named `app`."
   ]
  },
  {
   "cell_type": "code",
   "execution_count": 3,
   "id": "4ae3c46f-c266-421d-a443-0c5f202fd559",
   "metadata": {},
   "outputs": [
    {
     "data": {
      "text/plain": [
       "<dash.dash.Dash at 0x7fc1674b4880>"
      ]
     },
     "execution_count": 3,
     "metadata": {},
     "output_type": "execute_result"
    }
   ],
   "source": [
    "app = Dash(__name__)\n",
    "\n",
    "app"
   ]
  },
  {
   "cell_type": "markdown",
   "id": "c4749421-85d4-4769-84fa-2dda2cce31c0",
   "metadata": {},
   "source": [
    "### **Define the layout of the web app**\n",
    "\n",
    "- The layout of the web application is defined using HTML and Dash components.\n",
    "\n",
    "- It consists of:\n",
    "\n",
    "    - An `H1` HTML element displaying the title of the Dash app at the center of the page.\n",
    "\n",
    "    - A `dcc.Dropdown` component allowing users to select a country from the dropdown.\n",
    "\n",
    "    - A `dcc.Graph` component where the data visualization (initially empty) will be displayed."
   ]
  },
  {
   "cell_type": "code",
   "execution_count": 4,
   "id": "32f606bf-2824-4ba1-829d-1ed34bedfcb3",
   "metadata": {},
   "outputs": [],
   "source": [
    "app.layout = html.Div([\n",
    "    html.H1(children='Year Wise Population', style={'textAlign':'center'}),\n",
    "    dcc.Dropdown(df.country.unique(), 'India', id='dropdown-selection'),\n",
    "    dcc.Graph(id='graph-content')\n",
    "])"
   ]
  },
  {
   "cell_type": "markdown",
   "id": "455bd290-f827-410f-9461-bf806cafee9c",
   "metadata": {},
   "source": [
    "### **Define `Callback function` to update the graph based on `User Input`**\n",
    "\n",
    "- A callback function is defined using the `@callback` decorator.\n",
    "\n",
    "- This function is triggered when the value of the dropdown component (`'dropdown-selection'`) changes.\n",
    "\n",
    "- The selected country is used to filter the DataFrame `df`, resulting in a new DataFrame called `dff` containing data only for the selected country.\n",
    "\n",
    "- Plotly Express (`px`) is then used to create a line plot (`px.line`) of population (`'pop'`) over time (`'year'`).\n",
    "\n",
    "- The line plot is returned as the `figure` property of the `Output` component (`'graph-content'`), which updates the graph on the web page."
   ]
  },
  {
   "cell_type": "code",
   "execution_count": 5,
   "id": "f326764c-697d-4d99-9e0e-1f04dd75d8a4",
   "metadata": {},
   "outputs": [],
   "source": [
    "@callback(\n",
    "    Output('graph-content', 'figure'),  # Specify the output component (graph) and property to update\n",
    "    Input('dropdown-selection', 'value')  # Specify the input component (dropdown) to trigger the callback\n",
    ")\n",
    "def update_graph(value):\n",
    "    dff = df[df.country == value]  # Filter the DataFrame based on the selected country\n",
    "    return px.line(dff, x='year', y='pop')  # Create a line plot using Plotly Express for the filtered data"
   ]
  },
  {
   "cell_type": "markdown",
   "id": "e573bc7c-531b-4eeb-8bf8-5d3a500b59dd",
   "metadata": {},
   "source": [
    "### **Run the app**\n",
    "\n",
    "- The `if __name__ == '__main__':` block ensures that the app runs only if this script is executed directly (not when it's imported as a module).\n",
    "\n",
    "- The app is started with the `app.run(debug=True)` command, which runs the Dash app in debug mode."
   ]
  },
  {
   "cell_type": "code",
   "execution_count": 6,
   "id": "3c5515f4-c208-42c3-ac43-2e802be067ce",
   "metadata": {},
   "outputs": [
    {
     "data": {
      "text/html": [
       "\n",
       "        <iframe\n",
       "            width=\"100%\"\n",
       "            height=\"650\"\n",
       "            src=\"http://127.0.0.1:8050/\"\n",
       "            frameborder=\"0\"\n",
       "            allowfullscreen\n",
       "            \n",
       "        ></iframe>\n",
       "        "
      ],
      "text/plain": [
       "<IPython.lib.display.IFrame at 0x7fc15e8e5970>"
      ]
     },
     "metadata": {},
     "output_type": "display_data"
    }
   ],
   "source": [
    "if __name__ == '__main__':\n",
    "    app.run(debug=True)"
   ]
  },
  {
   "cell_type": "markdown",
   "id": "61a868a4-b323-4ee2-9115-20cb00b7dca9",
   "metadata": {},
   "source": [
    "- To run the app, copy the above code into a new file named `app.py` and type into your terminal the command `python app.py`.\n",
    "\n",
    "- Then, go to the http link. Dash is running on `http://127.0.0.1:8050/`\n",
    "\n",
    "    - Serving Flask app 'app' (lazy loading)\n",
    "\n",
    "    - Environment: production\n",
    "\n",
    "    - WARNING: This is a development server. Do not use it in a production deployment. Use a production WSGI server instead.\n",
    "\n",
    "    - Debug mode: on\n",
    "\n",
    "    - Running on http://127.0.0.1:8050 (Press CTRL+C to quit)"
   ]
  }
 ],
 "metadata": {
  "kernelspec": {
   "display_name": "Python 3 (ipykernel)",
   "language": "python",
   "name": "python3"
  },
  "language_info": {
   "codemirror_mode": {
    "name": "ipython",
    "version": 3
   },
   "file_extension": ".py",
   "mimetype": "text/x-python",
   "name": "python",
   "nbconvert_exporter": "python",
   "pygments_lexer": "ipython3",
   "version": "3.9.12"
  }
 },
 "nbformat": 4,
 "nbformat_minor": 5
}
